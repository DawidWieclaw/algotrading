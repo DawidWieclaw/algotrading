{
 "cells": [
  {
   "cell_type": "code",
   "execution_count": null,
   "metadata": {},
   "outputs": [],
   "source": [
    "import os\n",
    "import numpy as np\n",
    "import tensorflow as tf\n",
    "from tensorflow import keras\n",
    "from tensorflow.keras import layers\n",
    "from tensorflow.keras.models import load_model\n",
    "import json\n",
    "import cv2\n",
    "import matplotlib.pyplot as plt"
   ]
  },
  {
   "cell_type": "code",
   "execution_count": null,
   "metadata": {},
   "outputs": [],
   "source": [
    "ratios_file = open(\"ratios.json\", \"r\")\n",
    "#print(len(ratios_file.read()))\n",
    "ratios = json.load(ratios_file)\n",
    "ratios_file.close()"
   ]
  },
  {
   "cell_type": "code",
   "execution_count": null,
   "metadata": {},
   "outputs": [],
   "source": [
    "instruments = [\"BTC\"]\n",
    "periods = list(map(lambda x: int(x), os.listdir(\"images_reduced/\" + instruments[0] + \"/\")))\n",
    "period = np.max(periods)\n",
    "folder = \"images_reduced/\" + instruments[0] + \"/\" \n",
    "folder"
   ]
  },
  {
   "cell_type": "code",
   "execution_count": null,
   "metadata": {},
   "outputs": [],
   "source": [
    "periods"
   ]
  },
  {
   "cell_type": "code",
   "execution_count": null,
   "metadata": {},
   "outputs": [],
   "source": [
    "def prep_img(img_name):\n",
    "    img = np.array(cv2.imread(img_name))\n",
    "    if img.shape == ():\n",
    "        raise Exception(\"none type of img1 \" + img_name)\n",
    "    img = np.array(img[:,:,0] > 240, dtype = np.float16)\n",
    "    return img.reshape(img.shape[0], img.shape[1], 1)\n",
    "def prep_BB(img_name):\n",
    "    f = np.concatenate\n",
    "    img = np.array(cv2.imread(img_name))\n",
    "    if img.shape == ():\n",
    "        raise Exception(\"none type of img2 \" + img_name)\n",
    "    out_shape = (img.shape[0], img.shape[1], 1)\n",
    "    BB_low = np.logical_not(np.logical_and(img[:,:,0]<240,img[:,:,2]<240)).reshape(out_shape)\n",
    "    BB_mid = np.logical_not(np.logical_and(img[:,:,0]>240,img[:,:,2]<240)).reshape(out_shape)\n",
    "    BB_high1 = np.logical_and(img[:,:,0]<180,img[:,:,0]>50)\n",
    "    BB_high2 = np.logical_and(img[:,:,1]<180,img[:,:,2]>250)\n",
    "    BB_high = np.logical_and(BB_high1,BB_high2).reshape(out_shape)\n",
    "    BB_high = np.logical_not(BB_high)\n",
    "    return f((f((BB_low,BB_mid),axis=2), BB_high),axis=2).astype(np.float16)"
   ]
  },
  {
   "cell_type": "code",
   "execution_count": null,
   "metadata": {},
   "outputs": [],
   "source": [
    "X = []\n",
    "y = []\n",
    "dates = np.sort(list(map(lambda x:x.split(\";\")[0], filter(lambda x: \"close\" in x, os.listdir(folder+ str(period) + \"/\")))))\n",
    "\n",
    "for date in dates:\n",
    "    cont = False\n",
    "    img = prep_img(folder + str(period) + \"/\" + date + \";close.png\")\n",
    "    channels_in = img\n",
    "    cat = \"images_reduced/\"\n",
    "    try:\n",
    "        for instrument in instruments:\n",
    "            cat += instrument + \"/\" \n",
    "\n",
    "            for per in periods: \n",
    "                cata = cat + str(per) + \"/\"\n",
    "                img = prep_BB(cata + date + \";\" + \"BB\" + \".png\")\n",
    "                channels_in = np.concatenate((channels_in, img), axis = 2)\n",
    "                for ind in ['ma', 'ADX0','ATR0', 'ARO0', 'WLR0']:\n",
    "                    img = prep_img(cata + date + \";\" + ind + \".png\")\n",
    "                    channels_in = np.concatenate((channels_in, img), axis = 2)\n",
    "    except Exception as e:\n",
    "        print(e)\n",
    "        cont = True\n",
    "\n",
    "    if not date in ratios.keys() or cont:\n",
    "        continue\n",
    "    y.append(ratios[date])\n",
    "    X.append(channels_in)\n",
    "X = np.array(X, dtype=np.float16)\n",
    "y = np.array(y, dtype=np.float16)"
   ]
  },
  {
   "cell_type": "code",
   "execution_count": null,
   "metadata": {},
   "outputs": [],
   "source": [
    "X.shape, y.shape"
   ]
  },
  {
   "cell_type": "code",
   "execution_count": null,
   "metadata": {},
   "outputs": [],
   "source": [
    "for i in range(0, X.shape[0], X.shape[0]//5):\n",
    "    for j in range(X.shape[-1]):\n",
    "        plt.imshow(X[i,:,:,j])\n",
    "        plt.show()"
   ]
  },
  {
   "cell_type": "code",
   "execution_count": null,
   "metadata": {},
   "outputs": [],
   "source": [
    "inputs = keras.Input(shape=(X.shape[1], X.shape[2], X.shape[-1]),dtype=tf.float16)\n",
    "\n",
    "xl = layers.Conv2D(64, 2, activation=\"relu\")(inputs)\n",
    "xl = layers.Conv2D(64, 2, activation=\"relu\")(xl)\n",
    "xl = layers.Conv2D(64, 2, activation=\"relu\")(xl)\n",
    "xl = layers.MaxPooling2D(2)(xl)\n",
    "xl = layers.Conv2D(32, 2, activation=\"relu\")(xl)\n",
    "xl = layers.Conv2D(32, 2, activation=\"relu\")(xl)\n",
    "xl = layers.Conv2D(32, 2, activation=\"relu\")(xl)\n",
    "xl = layers.MaxPooling2D(2)(xl)\n",
    "xl = layers.Conv2D(16, 2, activation=\"relu\")(xl)\n",
    "xl = layers.Conv2D(16, 2, activation=\"relu\")(xl)\n",
    "xl = layers.Conv2D(16, 2, activation=\"relu\")(xl)\n",
    "xl = layers.MaxPooling2D(2)(xl)\n",
    "xl = layers.Conv2D(16, 2, activation=\"relu\")(xl)\n",
    "xl = layers.Conv2D(16, 2, activation=\"relu\")(xl)\n",
    "xl = layers.MaxPooling2D(2)(xl)\n",
    "xl = layers.Conv2D(16, 2, activation=\"relu\")(xl)\n",
    "xl = layers.Flatten()(xl)\n",
    "xl = dense = layers.Dense(8, activation=\"relu\")(xl)\n",
    "xl = dense = layers.Dense(4, activation=\"relu\")(xl)\n",
    "outputs = dense = layers.Dense(2)(xl)\n",
    "model = keras.Model(inputs=inputs, outputs=outputs, name=\"algotrading\")"
   ]
  },
  {
   "cell_type": "code",
   "execution_count": null,
   "metadata": {},
   "outputs": [],
   "source": [
    "model.compile(\n",
    "    loss=\"mean_squared_error\",\n",
    "    optimizer=keras.optimizers.RMSprop())\n",
    "model.summary()"
   ]
  },
  {
   "cell_type": "code",
   "execution_count": null,
   "metadata": {},
   "outputs": [],
   "source": [
    "X = tf.constant(X, dtype = tf.float16)\n",
    "y = tf.constant(y, dtype = tf.float16)"
   ]
  },
  {
   "cell_type": "code",
   "execution_count": null,
   "metadata": {},
   "outputs": [],
   "source": [
    "model.fit(X, y, batch_size=64, epochs=5, validation_split=0.2)"
   ]
  },
  {
   "cell_type": "code",
   "execution_count": null,
   "metadata": {},
   "outputs": [],
   "source": [
    "preds = model.predict(X)"
   ]
  },
  {
   "cell_type": "code",
   "execution_count": null,
   "metadata": {},
   "outputs": [],
   "source": [
    "plt.plot(y[:,0], color = 'green')\n",
    "plt.plot(preds[:,0], color = 'red')\n",
    "plt.show()\n",
    "plt.plot(y[:,0] - preds[:,0], color = 'yellow')\n",
    "plt.show()"
   ]
  },
  {
   "cell_type": "code",
   "execution_count": null,
   "metadata": {},
   "outputs": [],
   "source": []
  }
 ],
 "metadata": {
  "kernelspec": {
   "display_name": "Python 3",
   "language": "python",
   "name": "python3"
  },
  "language_info": {
   "codemirror_mode": {
    "name": "ipython",
    "version": 3
   },
   "file_extension": ".py",
   "mimetype": "text/x-python",
   "name": "python",
   "nbconvert_exporter": "python",
   "pygments_lexer": "ipython3",
   "version": "3.8.9"
  }
 },
 "nbformat": 4,
 "nbformat_minor": 4
}
