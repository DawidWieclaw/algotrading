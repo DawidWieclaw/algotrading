{
  "cells": [
    {
      "cell_type": "code",
      "source": [
        "from google.colab import drive\n",
        "drive.mount('/content/drive')"
      ],
      "metadata": {
        "id": "7G9BnRdCEhrY"
      },
      "execution_count": null,
      "outputs": []
    },
    {
      "cell_type": "code",
      "source": [
        "!pip install talib-binary"
      ],
      "metadata": {
        "id": "2tV56O4VFvna"
      },
      "execution_count": null,
      "outputs": []
    },
    {
      "cell_type": "code",
      "source": [
        "from BinanceClient import get_data"
      ],
      "metadata": {
        "id": "sc8zVL4nOwSd"
      },
      "execution_count": null,
      "outputs": []
    },
    {
      "cell_type": "code",
      "source": [
        "import tensorflow as tf\n",
        "from tensorflow import keras\n",
        "from tensorflow.keras import layers"
      ],
      "metadata": {
        "id": "ziHi9w1Adwhc"
      },
      "execution_count": null,
      "outputs": []
    },
    {
      "cell_type": "code",
      "source": [
        "import os\n",
        "import sys\n",
        "import pandas as pd\n",
        "import datetime as dt\n",
        "import time\n",
        "import numpy as np\n",
        "import talib\n",
        "from talib import MA_Type\n",
        "import matplotlib.pyplot as plt\n",
        "import gc \n",
        "from IPython.core.display import clear_output\n",
        "from tqdm import tqdm"
      ],
      "metadata": {
        "id": "E9s7WQ4EEiCr"
      },
      "execution_count": null,
      "outputs": []
    },
    {
      "cell_type": "code",
      "source": [
        "kline_df = pd.read_csv(\"drive/MyDrive/KLINE_INTERVAL_5MINUTE.csv\")"
      ],
      "metadata": {
        "id": "DswfxembFKVm"
      },
      "execution_count": null,
      "outputs": []
    },
    {
      "cell_type": "code",
      "source": [
        "#instrument = \"BTC\"\n",
        "#start_date = dt.datetime(2020,1,1,0,0,0)\n",
        "#interval = \"5m\"\n",
        "#kline_df = get_data(\n",
        "#        currency=instrument+\"USDT\",\n",
        "#        start_date=start_date,\n",
        "#        interval=interval)"
      ],
      "metadata": {
        "id": "sYoJi2MNOoyu"
      },
      "execution_count": null,
      "outputs": []
    },
    {
      "cell_type": "code",
      "source": [
        "period = 20"
      ],
      "metadata": {
        "id": "DiucheL-F39G"
      },
      "execution_count": null,
      "outputs": []
    },
    {
      "cell_type": "code",
      "source": [
        "kline_df[\"upper_BB\"], kline_df[\"lower_BB\"],kline_df[\"middle_BB\"] = talib.BBANDS(\n",
        "            kline_df.close,\n",
        "            timeperiod=period,\n",
        "            nbdevup=3,\n",
        "            nbdevdn=2,\n",
        "            matype=0\n",
        "        )"
      ],
      "metadata": {
        "id": "xoesNbJeKc28"
      },
      "execution_count": null,
      "outputs": []
    },
    {
      "cell_type": "code",
      "source": [
        "kline_df[\"ma\"] = talib.EMA(kline_df[\"close\"], timeperiod=period)\n",
        "\n",
        "kline_df['ADX0'] = talib.ADX(\n",
        "        kline_df.high,\n",
        "        kline_df.low,\n",
        "        kline_df.close,\n",
        "        timeperiod=period #20\n",
        "    )\n",
        "\n",
        "kline_df['ATR0'] = talib.ATR(\n",
        "    kline_df.high,\n",
        "    kline_df.low,\n",
        "    kline_df.close,\n",
        "    timeperiod=period\n",
        ")\n",
        "\n",
        "#kline_df['ARO0'] = talib.AROONOSC(\n",
        "#high=kline_df.high,\n",
        "#low=kline_df.low,\n",
        "#timeperiod=period\n",
        "#)\n",
        "\n",
        "kline_df['WLR0'] = talib.WILLR(\n",
        "    kline_df.high,\n",
        "    kline_df.low,\n",
        "    kline_df.close,\n",
        "    timeperiod=period\n",
        ")"
      ],
      "metadata": {
        "id": "gnvoflYDKmXq"
      },
      "execution_count": null,
      "outputs": []
    },
    {
      "cell_type": "code",
      "source": [
        "kline_df = kline_df.dropna()\n",
        "kline_df.head()"
      ],
      "metadata": {
        "id": "KivIaUamKyCV"
      },
      "execution_count": null,
      "outputs": []
    },
    {
      "cell_type": "code",
      "source": [
        "def normalize(arr):\n",
        "  mini=np.min(arr)\n",
        "  arr -= mini\n",
        "  maxi = np.max(arr)\n",
        "  arr /= maxi\n",
        "  return arr"
      ],
      "metadata": {
        "id": "4mHMXWsDO-hD"
      },
      "execution_count": null,
      "outputs": []
    },
    {
      "cell_type": "code",
      "source": [
        "X = []\n",
        "Y = []\n",
        "Y_old = []\n",
        "for i in tqdm(range(20, kline_df.shape[0]-6, 2)):\n",
        "  x = []\n",
        "  Y_old.append(kline_df[\"close\"].iloc[i + 6])\n",
        "  Y.append(normalize(Y_old)[-1])\n",
        "  for column in kline_df.columns[1:]:\n",
        "    x.append(normalize(np.array(kline_df[column][i-20:i])))\n",
        "  X.append(x)"
      ],
      "metadata": {
        "id": "FD9ALzHSK0Si"
      },
      "execution_count": null,
      "outputs": []
    },
    {
      "cell_type": "code",
      "source": [
        "X = np.ascontiguousarray(X, dtype=np.float16)\n",
        "Y = np.ascontiguousarray(Y, dtype=np.float16)"
      ],
      "metadata": {
        "id": "9tbQx3eVQO9l"
      },
      "execution_count": null,
      "outputs": []
    },
    {
      "cell_type": "code",
      "source": [
        "Y = Y[1:]\n",
        "X = X[1:]"
      ],
      "metadata": {
        "id": "hKrmCYvvXlVs"
      },
      "execution_count": null,
      "outputs": []
    },
    {
      "cell_type": "code",
      "source": [
        "X = X.reshape((X.shape[0], X.shape[1], X.shape[2], 1))"
      ],
      "metadata": {
        "id": "0TXvh69kRSi8"
      },
      "execution_count": null,
      "outputs": []
    },
    {
      "cell_type": "code",
      "source": [
        "inputs = keras.Input(shape=(X.shape[1], X.shape[2], X.shape[3]),dtype=tf.float16)\n",
        "x1 = layers.Conv2D(32, 2, activation=\"relu\")(inputs)\n",
        "x1 = layers.Conv2D(32, 2, activation=\"relu\")(x1)\n",
        "x1 = layers.Conv2D(32, 2, activation=\"relu\")(x1)\n",
        "x1 = layers.MaxPooling2D(2)(x1)\n",
        "x1 = layers.Conv2D(32, 2, activation=\"relu\")(x1)\n",
        "x1 = layers.MaxPooling2D(2)(x1)\n",
        "\n",
        "\n",
        "x2 = layers.Conv2D(32, 2, activation=\"relu\")(inputs)\n",
        "x2 = layers.Conv2D(32, 2, activation=\"relu\")(x2)\n",
        "x2 = layers.Conv2D(32, 2, activation=\"relu\")(x2)\n",
        "x2 = layers.MaxPooling2D(2)(x2)\n",
        "x2 = layers.Conv2D(32, 2, activation=\"relu\")(x2)\n",
        "x2 = layers.MaxPooling2D(2)(x2)\n",
        "\n",
        "\n",
        "x3 = layers.Conv2D(32, 2, activation=\"relu\")(inputs)\n",
        "x3 = layers.Conv2D(32, 2, activation=\"relu\")(x3)\n",
        "x3 = layers.Conv2D(32, 2, activation=\"relu\")(x3)\n",
        "x3 = layers.MaxPooling2D(2)(x3)\n",
        "x3 = layers.Conv2D(32, 2, activation=\"relu\")(x3)\n",
        "x3 = layers.MaxPooling2D(2)(x3)\n",
        "\n",
        "x = tf.keras.layers.Concatenate(axis=1)([x1, x2, x3])\n",
        "x = layers.Flatten()(x)\n",
        "x = dense = layers.Dense(128, activation=\"relu\")(x)\n",
        "x = dense = layers.Dense(64, activation=\"relu\")(x)\n",
        "x = dense = layers.Dense(32, activation=\"relu\")(x)\n",
        "x = dense = layers.Dense(16, activation=\"relu\")(x)\n",
        "x = dense = layers.Dense(8, activation=\"relu\")(x)\n",
        "x = dense = layers.Dense(4, activation=\"relu\")(x)\n",
        "x = dense = layers.Dense(2, activation=\"relu\")(x)\n",
        "\n",
        "\n",
        "outputs = dense = layers.Dense(1)(x)\n",
        "model = keras.Model(inputs=inputs, outputs=outputs, name=\"algotrading\")"
      ],
      "metadata": {
        "id": "cYOmLRCidd3D"
      },
      "execution_count": null,
      "outputs": []
    },
    {
      "cell_type": "code",
      "source": [
        "model.compile(\n",
        "    loss=\"mean_squared_error\",\n",
        "    optimizer=keras.optimizers.RMSprop())\n",
        "model.summary()"
      ],
      "metadata": {
        "id": "gsDQrs7qi3rr"
      },
      "execution_count": null,
      "outputs": []
    },
    {
      "cell_type": "code",
      "source": [
        "model.fit(X, Y, batch_size=64, epochs=10, validation_split=0.2)"
      ],
      "metadata": {
        "id": "xgbQ87KZjSa4"
      },
      "execution_count": null,
      "outputs": []
    },
    {
      "cell_type": "code",
      "source": [
        ""
      ],
      "metadata": {
        "id": "U5AQXzcXjYoN"
      },
      "execution_count": null,
      "outputs": []
    }
  ],
  "metadata": {
    "colab": {
      "collapsed_sections": [],
      "name": "Witamy w Colaboratory",
      "provenance": []
    },
    "kernelspec": {
      "display_name": "Python 3",
      "name": "python3"
    },
    "accelerator": "GPU"
  },
  "nbformat": 4,
  "nbformat_minor": 0
}